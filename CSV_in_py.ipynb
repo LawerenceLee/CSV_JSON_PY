{
 "cells": [
  {
   "cell_type": "markdown",
   "metadata": {},
   "source": [
    "# CSVs in Python\n",
    "\n",
    "Python has great [documentation](https://docs.python.org/3/library/csv.html) for the csv module.\n",
    "\n",
    "Sometimes you might have issues with the csv module and files that contain a lot of Unicode, especially if you're using Python 2. If you run into that issue, check out [unicodecsv](https://pypi.python.org/pypi/unicodecsv/0.14.1).\n",
    "\n",
    "For both CSV and JSON files, and others, the amazing [tablib](http://docs.python-tablib.org/en/latest/) library is a great thing to check out."
   ]
  },
  {
   "cell_type": "code",
   "execution_count": 1,
   "metadata": {
    "collapsed": true
   },
   "outputs": [],
   "source": [
    "import csv"
   ]
  },
  {
   "cell_type": "markdown",
   "metadata": {},
   "source": [
    "# Creating a CSV reader\n",
    "The `newline` argument with the `=''` differentiates between actual newlines and `/n` within a quoted section."
   ]
  },
  {
   "cell_type": "code",
   "execution_count": 3,
   "metadata": {},
   "outputs": [
    {
     "name": "stdout",
     "output_type": "stream",
     "text": [
      "word, definition\n",
      "Antipathy, Deep dislike, sometimes without reason.\n"
     ]
    }
   ],
   "source": [
    "with open('definitions.csv',newline='') as csvfile:\n",
    "    defreader = csv.reader(csvfile, delimiter=',')\n",
    "    rows = list(defreader)\n",
    "    for row in rows:\n",
    "        print(', '.join(row))"
   ]
  },
  {
   "cell_type": "markdown",
   "metadata": {},
   "source": [
    "# Creating a CSV DictReader"
   ]
  },
  {
   "cell_type": "code",
   "execution_count": 11,
   "metadata": {},
   "outputs": [
    {
     "name": "stdout",
     "output_type": "stream",
     "text": [
      "Antipathy : Deep dislike, sometimes without reason.\n"
     ]
    }
   ],
   "source": [
    "with open('definitions.csv',newline='') as csvfile:\n",
    "    defreader = csv.DictReader(csvfile, delimiter=',')\n",
    "    rows = list(defreader)\n",
    "    for row in rows:\n",
    "        print(row['word'], ':', row['definition'] )"
   ]
  },
  {
   "cell_type": "markdown",
   "metadata": {},
   "source": [
    "# Writing to a CSV (using fieldnames)\n",
    "* `.writeheader()` writes filednames to the top of file"
   ]
  },
  {
   "cell_type": "code",
   "execution_count": 13,
   "metadata": {
    "collapsed": true
   },
   "outputs": [],
   "source": [
    "with open('items.csv', 'a') as csvfile:\n",
    "    fieldnames = ['item', 'location']\n",
    "    itemwriter = csv.DictWriter(csvfile, fieldnames=fieldnames)\n",
    "    \n",
    "    itemwriter.writeheader() \n",
    "    itemwriter.writerow({\n",
    "        'item': 'iPhone',\n",
    "        'location': 'Table'\n",
    "    })\n",
    "    itemwriter.writerow({\n",
    "        'item': 'Sheets',\n",
    "        'location': 'Bed'\n",
    "    })"
   ]
  },
  {
   "cell_type": "code",
   "execution_count": null,
   "metadata": {
    "collapsed": true
   },
   "outputs": [],
   "source": []
  }
 ],
 "metadata": {
  "kernelspec": {
   "display_name": "Python 3",
   "language": "python",
   "name": "python3"
  },
  "language_info": {
   "codemirror_mode": {
    "name": "ipython",
    "version": 3
   },
   "file_extension": ".py",
   "mimetype": "text/x-python",
   "name": "python",
   "nbconvert_exporter": "python",
   "pygments_lexer": "ipython3",
   "version": "3.6.1"
  }
 },
 "nbformat": 4,
 "nbformat_minor": 2
}
